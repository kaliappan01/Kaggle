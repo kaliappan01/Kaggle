{
 "cells": [
  {
   "cell_type": "code",
   "execution_count": 1,
   "id": "together-hello",
   "metadata": {
    "_cell_guid": "b1076dfc-b9ad-4769-8c92-a6c4dae69d19",
    "_uuid": "8f2839f25d086af736a60e9eeb907d3b93b6e0e5",
    "execution": {
     "iopub.execute_input": "2021-05-01T18:05:18.478388Z",
     "iopub.status.busy": "2021-05-01T18:05:18.477863Z",
     "iopub.status.idle": "2021-05-01T18:05:18.484622Z",
     "shell.execute_reply": "2021-05-01T18:05:18.485138Z"
    },
    "papermill": {
     "duration": 0.024444,
     "end_time": "2021-05-01T18:05:18.485388",
     "exception": false,
     "start_time": "2021-05-01T18:05:18.460944",
     "status": "completed"
    },
    "tags": []
   },
   "outputs": [
    {
     "name": "stdout",
     "output_type": "stream",
     "text": [
      "/kaggle/input/tabular-playground-series-apr-2021/sample_submission.csv\n",
      "/kaggle/input/tabular-playground-series-apr-2021/train.csv\n",
      "/kaggle/input/tabular-playground-series-apr-2021/test.csv\n"
     ]
    }
   ],
   "source": [
    "# This Python 3 environment comes with many helpful analytics libraries installed\n",
    "# It is defined by the kaggle/python Docker image: https://github.com/kaggle/docker-python\n",
    "# For example, here's several helpful packages to load\n",
    "\n",
    "import numpy as np # linear algebra\n",
    "import pandas as pd # data processing, CSV file I/O (e.g. pd.read_csv)\n",
    "\n",
    "# Input data files are available in the read-only \"../input/\" directory\n",
    "# For example, running this (by clicking run or pressing Shift+Enter) will list all files under the input directory\n",
    "\n",
    "import os\n",
    "for dirname, _, filenames in os.walk('/kaggle/input'):\n",
    "    for filename in filenames:\n",
    "        print(os.path.join(dirname, filename))\n",
    "\n",
    "# You can write up to 20GB to the current directory (/kaggle/working/) that gets preserved as output when you create a version using \"Save & Run All\" \n",
    "# You can also write temporary files to /kaggle/temp/, but they won't be saved outside of the current session"
   ]
  },
  {
   "cell_type": "code",
   "execution_count": 2,
   "id": "reduced-harris",
   "metadata": {
    "execution": {
     "iopub.execute_input": "2021-05-01T18:05:18.515057Z",
     "iopub.status.busy": "2021-05-01T18:05:18.514465Z",
     "iopub.status.idle": "2021-05-01T18:05:19.017537Z",
     "shell.execute_reply": "2021-05-01T18:05:19.017935Z"
    },
    "papermill": {
     "duration": 0.519439,
     "end_time": "2021-05-01T18:05:19.018091",
     "exception": false,
     "start_time": "2021-05-01T18:05:18.498652",
     "status": "completed"
    },
    "tags": []
   },
   "outputs": [
    {
     "data": {
      "text/html": [
       "<div>\n",
       "<style scoped>\n",
       "    .dataframe tbody tr th:only-of-type {\n",
       "        vertical-align: middle;\n",
       "    }\n",
       "\n",
       "    .dataframe tbody tr th {\n",
       "        vertical-align: top;\n",
       "    }\n",
       "\n",
       "    .dataframe thead th {\n",
       "        text-align: right;\n",
       "    }\n",
       "</style>\n",
       "<table border=\"1\" class=\"dataframe\">\n",
       "  <thead>\n",
       "    <tr style=\"text-align: right;\">\n",
       "      <th></th>\n",
       "      <th>PassengerId</th>\n",
       "      <th>Pclass</th>\n",
       "      <th>Name</th>\n",
       "      <th>Sex</th>\n",
       "      <th>Age</th>\n",
       "      <th>SibSp</th>\n",
       "      <th>Parch</th>\n",
       "      <th>Ticket</th>\n",
       "      <th>Fare</th>\n",
       "      <th>Cabin</th>\n",
       "      <th>Embarked</th>\n",
       "    </tr>\n",
       "  </thead>\n",
       "  <tbody>\n",
       "    <tr>\n",
       "      <th>0</th>\n",
       "      <td>100000</td>\n",
       "      <td>3</td>\n",
       "      <td>Holliday, Daniel</td>\n",
       "      <td>male</td>\n",
       "      <td>19.0</td>\n",
       "      <td>0</td>\n",
       "      <td>0</td>\n",
       "      <td>24745</td>\n",
       "      <td>63.01</td>\n",
       "      <td>NaN</td>\n",
       "      <td>S</td>\n",
       "    </tr>\n",
       "    <tr>\n",
       "      <th>1</th>\n",
       "      <td>100001</td>\n",
       "      <td>3</td>\n",
       "      <td>Nguyen, Lorraine</td>\n",
       "      <td>female</td>\n",
       "      <td>53.0</td>\n",
       "      <td>0</td>\n",
       "      <td>0</td>\n",
       "      <td>13264</td>\n",
       "      <td>5.81</td>\n",
       "      <td>NaN</td>\n",
       "      <td>S</td>\n",
       "    </tr>\n",
       "    <tr>\n",
       "      <th>2</th>\n",
       "      <td>100002</td>\n",
       "      <td>1</td>\n",
       "      <td>Harris, Heather</td>\n",
       "      <td>female</td>\n",
       "      <td>19.0</td>\n",
       "      <td>0</td>\n",
       "      <td>0</td>\n",
       "      <td>25990</td>\n",
       "      <td>38.91</td>\n",
       "      <td>B15315</td>\n",
       "      <td>C</td>\n",
       "    </tr>\n",
       "    <tr>\n",
       "      <th>3</th>\n",
       "      <td>100003</td>\n",
       "      <td>2</td>\n",
       "      <td>Larsen, Eric</td>\n",
       "      <td>male</td>\n",
       "      <td>25.0</td>\n",
       "      <td>0</td>\n",
       "      <td>0</td>\n",
       "      <td>314011</td>\n",
       "      <td>12.93</td>\n",
       "      <td>NaN</td>\n",
       "      <td>S</td>\n",
       "    </tr>\n",
       "    <tr>\n",
       "      <th>4</th>\n",
       "      <td>100004</td>\n",
       "      <td>1</td>\n",
       "      <td>Cleary, Sarah</td>\n",
       "      <td>female</td>\n",
       "      <td>17.0</td>\n",
       "      <td>0</td>\n",
       "      <td>2</td>\n",
       "      <td>26203</td>\n",
       "      <td>26.89</td>\n",
       "      <td>B22515</td>\n",
       "      <td>C</td>\n",
       "    </tr>\n",
       "  </tbody>\n",
       "</table>\n",
       "</div>"
      ],
      "text/plain": [
       "   PassengerId  Pclass              Name     Sex   Age  SibSp  Parch  Ticket  \\\n",
       "0       100000       3  Holliday, Daniel    male  19.0      0      0   24745   \n",
       "1       100001       3  Nguyen, Lorraine  female  53.0      0      0   13264   \n",
       "2       100002       1   Harris, Heather  female  19.0      0      0   25990   \n",
       "3       100003       2      Larsen, Eric    male  25.0      0      0  314011   \n",
       "4       100004       1     Cleary, Sarah  female  17.0      0      2   26203   \n",
       "\n",
       "    Fare   Cabin Embarked  \n",
       "0  63.01     NaN        S  \n",
       "1   5.81     NaN        S  \n",
       "2  38.91  B15315        C  \n",
       "3  12.93     NaN        S  \n",
       "4  26.89  B22515        C  "
      ]
     },
     "execution_count": 2,
     "metadata": {},
     "output_type": "execute_result"
    }
   ],
   "source": [
    "train_data = pd.read_csv(\"/kaggle/input/tabular-playground-series-apr-2021/train.csv\")\n",
    "test_data = pd.read_csv(\"/kaggle/input/tabular-playground-series-apr-2021/test.csv\")\n",
    "test_data.head()"
   ]
  },
  {
   "cell_type": "code",
   "execution_count": 3,
   "id": "transparent-weekend",
   "metadata": {
    "execution": {
     "iopub.execute_input": "2021-05-01T18:05:19.046168Z",
     "iopub.status.busy": "2021-05-01T18:05:19.045604Z",
     "iopub.status.idle": "2021-05-01T18:05:19.058206Z",
     "shell.execute_reply": "2021-05-01T18:05:19.058583Z"
    },
    "papermill": {
     "duration": 0.027724,
     "end_time": "2021-05-01T18:05:19.058719",
     "exception": false,
     "start_time": "2021-05-01T18:05:19.030995",
     "status": "completed"
    },
    "tags": []
   },
   "outputs": [
    {
     "data": {
      "text/html": [
       "<div>\n",
       "<style scoped>\n",
       "    .dataframe tbody tr th:only-of-type {\n",
       "        vertical-align: middle;\n",
       "    }\n",
       "\n",
       "    .dataframe tbody tr th {\n",
       "        vertical-align: top;\n",
       "    }\n",
       "\n",
       "    .dataframe thead th {\n",
       "        text-align: right;\n",
       "    }\n",
       "</style>\n",
       "<table border=\"1\" class=\"dataframe\">\n",
       "  <thead>\n",
       "    <tr style=\"text-align: right;\">\n",
       "      <th></th>\n",
       "      <th>PassengerId</th>\n",
       "      <th>Survived</th>\n",
       "      <th>Pclass</th>\n",
       "      <th>Name</th>\n",
       "      <th>Sex</th>\n",
       "      <th>Age</th>\n",
       "      <th>SibSp</th>\n",
       "      <th>Parch</th>\n",
       "      <th>Ticket</th>\n",
       "      <th>Fare</th>\n",
       "      <th>Cabin</th>\n",
       "      <th>Embarked</th>\n",
       "    </tr>\n",
       "  </thead>\n",
       "  <tbody>\n",
       "    <tr>\n",
       "      <th>0</th>\n",
       "      <td>0</td>\n",
       "      <td>1</td>\n",
       "      <td>1</td>\n",
       "      <td>Oconnor, Frankie</td>\n",
       "      <td>male</td>\n",
       "      <td>NaN</td>\n",
       "      <td>2</td>\n",
       "      <td>0</td>\n",
       "      <td>209245</td>\n",
       "      <td>27.14</td>\n",
       "      <td>C12239</td>\n",
       "      <td>S</td>\n",
       "    </tr>\n",
       "    <tr>\n",
       "      <th>1</th>\n",
       "      <td>1</td>\n",
       "      <td>0</td>\n",
       "      <td>3</td>\n",
       "      <td>Bryan, Drew</td>\n",
       "      <td>male</td>\n",
       "      <td>NaN</td>\n",
       "      <td>0</td>\n",
       "      <td>0</td>\n",
       "      <td>27323</td>\n",
       "      <td>13.35</td>\n",
       "      <td>NaN</td>\n",
       "      <td>S</td>\n",
       "    </tr>\n",
       "    <tr>\n",
       "      <th>2</th>\n",
       "      <td>2</td>\n",
       "      <td>0</td>\n",
       "      <td>3</td>\n",
       "      <td>Owens, Kenneth</td>\n",
       "      <td>male</td>\n",
       "      <td>0.33</td>\n",
       "      <td>1</td>\n",
       "      <td>2</td>\n",
       "      <td>CA 457703</td>\n",
       "      <td>71.29</td>\n",
       "      <td>NaN</td>\n",
       "      <td>S</td>\n",
       "    </tr>\n",
       "    <tr>\n",
       "      <th>3</th>\n",
       "      <td>3</td>\n",
       "      <td>0</td>\n",
       "      <td>3</td>\n",
       "      <td>Kramer, James</td>\n",
       "      <td>male</td>\n",
       "      <td>19.00</td>\n",
       "      <td>0</td>\n",
       "      <td>0</td>\n",
       "      <td>A. 10866</td>\n",
       "      <td>13.04</td>\n",
       "      <td>NaN</td>\n",
       "      <td>S</td>\n",
       "    </tr>\n",
       "    <tr>\n",
       "      <th>4</th>\n",
       "      <td>4</td>\n",
       "      <td>1</td>\n",
       "      <td>3</td>\n",
       "      <td>Bond, Michael</td>\n",
       "      <td>male</td>\n",
       "      <td>25.00</td>\n",
       "      <td>0</td>\n",
       "      <td>0</td>\n",
       "      <td>427635</td>\n",
       "      <td>7.76</td>\n",
       "      <td>NaN</td>\n",
       "      <td>S</td>\n",
       "    </tr>\n",
       "  </tbody>\n",
       "</table>\n",
       "</div>"
      ],
      "text/plain": [
       "   PassengerId  Survived  Pclass              Name   Sex    Age  SibSp  Parch  \\\n",
       "0            0         1       1  Oconnor, Frankie  male    NaN      2      0   \n",
       "1            1         0       3       Bryan, Drew  male    NaN      0      0   \n",
       "2            2         0       3    Owens, Kenneth  male   0.33      1      2   \n",
       "3            3         0       3     Kramer, James  male  19.00      0      0   \n",
       "4            4         1       3     Bond, Michael  male  25.00      0      0   \n",
       "\n",
       "      Ticket   Fare   Cabin Embarked  \n",
       "0     209245  27.14  C12239        S  \n",
       "1      27323  13.35     NaN        S  \n",
       "2  CA 457703  71.29     NaN        S  \n",
       "3   A. 10866  13.04     NaN        S  \n",
       "4     427635   7.76     NaN        S  "
      ]
     },
     "execution_count": 3,
     "metadata": {},
     "output_type": "execute_result"
    }
   ],
   "source": [
    "train_data.head()"
   ]
  },
  {
   "cell_type": "code",
   "execution_count": 4,
   "id": "northern-digest",
   "metadata": {
    "execution": {
     "iopub.execute_input": "2021-05-01T18:05:19.087877Z",
     "iopub.status.busy": "2021-05-01T18:05:19.087343Z",
     "iopub.status.idle": "2021-05-01T18:05:19.137072Z",
     "shell.execute_reply": "2021-05-01T18:05:19.136645Z"
    },
    "papermill": {
     "duration": 0.065268,
     "end_time": "2021-05-01T18:05:19.137230",
     "exception": false,
     "start_time": "2021-05-01T18:05:19.071962",
     "status": "completed"
    },
    "tags": []
   },
   "outputs": [
    {
     "data": {
      "text/html": [
       "<div>\n",
       "<style scoped>\n",
       "    .dataframe tbody tr th:only-of-type {\n",
       "        vertical-align: middle;\n",
       "    }\n",
       "\n",
       "    .dataframe tbody tr th {\n",
       "        vertical-align: top;\n",
       "    }\n",
       "\n",
       "    .dataframe thead th {\n",
       "        text-align: right;\n",
       "    }\n",
       "</style>\n",
       "<table border=\"1\" class=\"dataframe\">\n",
       "  <thead>\n",
       "    <tr style=\"text-align: right;\">\n",
       "      <th></th>\n",
       "      <th>PassengerId</th>\n",
       "      <th>Survived</th>\n",
       "      <th>Pclass</th>\n",
       "      <th>Age</th>\n",
       "      <th>SibSp</th>\n",
       "      <th>Parch</th>\n",
       "      <th>Fare</th>\n",
       "    </tr>\n",
       "  </thead>\n",
       "  <tbody>\n",
       "    <tr>\n",
       "      <th>count</th>\n",
       "      <td>100000.000000</td>\n",
       "      <td>100000.000000</td>\n",
       "      <td>100000.000000</td>\n",
       "      <td>96708.000000</td>\n",
       "      <td>100000.000000</td>\n",
       "      <td>100000.000000</td>\n",
       "      <td>99866.00000</td>\n",
       "    </tr>\n",
       "    <tr>\n",
       "      <th>mean</th>\n",
       "      <td>49999.500000</td>\n",
       "      <td>0.427740</td>\n",
       "      <td>2.106910</td>\n",
       "      <td>38.355472</td>\n",
       "      <td>0.397690</td>\n",
       "      <td>0.454560</td>\n",
       "      <td>43.92933</td>\n",
       "    </tr>\n",
       "    <tr>\n",
       "      <th>std</th>\n",
       "      <td>28867.657797</td>\n",
       "      <td>0.494753</td>\n",
       "      <td>0.837727</td>\n",
       "      <td>18.313556</td>\n",
       "      <td>0.862566</td>\n",
       "      <td>0.950076</td>\n",
       "      <td>69.58882</td>\n",
       "    </tr>\n",
       "    <tr>\n",
       "      <th>min</th>\n",
       "      <td>0.000000</td>\n",
       "      <td>0.000000</td>\n",
       "      <td>1.000000</td>\n",
       "      <td>0.080000</td>\n",
       "      <td>0.000000</td>\n",
       "      <td>0.000000</td>\n",
       "      <td>0.68000</td>\n",
       "    </tr>\n",
       "    <tr>\n",
       "      <th>25%</th>\n",
       "      <td>24999.750000</td>\n",
       "      <td>0.000000</td>\n",
       "      <td>1.000000</td>\n",
       "      <td>25.000000</td>\n",
       "      <td>0.000000</td>\n",
       "      <td>0.000000</td>\n",
       "      <td>10.04000</td>\n",
       "    </tr>\n",
       "    <tr>\n",
       "      <th>50%</th>\n",
       "      <td>49999.500000</td>\n",
       "      <td>0.000000</td>\n",
       "      <td>2.000000</td>\n",
       "      <td>39.000000</td>\n",
       "      <td>0.000000</td>\n",
       "      <td>0.000000</td>\n",
       "      <td>24.46000</td>\n",
       "    </tr>\n",
       "    <tr>\n",
       "      <th>75%</th>\n",
       "      <td>74999.250000</td>\n",
       "      <td>1.000000</td>\n",
       "      <td>3.000000</td>\n",
       "      <td>53.000000</td>\n",
       "      <td>1.000000</td>\n",
       "      <td>1.000000</td>\n",
       "      <td>33.50000</td>\n",
       "    </tr>\n",
       "    <tr>\n",
       "      <th>max</th>\n",
       "      <td>99999.000000</td>\n",
       "      <td>1.000000</td>\n",
       "      <td>3.000000</td>\n",
       "      <td>87.000000</td>\n",
       "      <td>8.000000</td>\n",
       "      <td>9.000000</td>\n",
       "      <td>744.66000</td>\n",
       "    </tr>\n",
       "  </tbody>\n",
       "</table>\n",
       "</div>"
      ],
      "text/plain": [
       "         PassengerId       Survived         Pclass           Age  \\\n",
       "count  100000.000000  100000.000000  100000.000000  96708.000000   \n",
       "mean    49999.500000       0.427740       2.106910     38.355472   \n",
       "std     28867.657797       0.494753       0.837727     18.313556   \n",
       "min         0.000000       0.000000       1.000000      0.080000   \n",
       "25%     24999.750000       0.000000       1.000000     25.000000   \n",
       "50%     49999.500000       0.000000       2.000000     39.000000   \n",
       "75%     74999.250000       1.000000       3.000000     53.000000   \n",
       "max     99999.000000       1.000000       3.000000     87.000000   \n",
       "\n",
       "               SibSp          Parch         Fare  \n",
       "count  100000.000000  100000.000000  99866.00000  \n",
       "mean        0.397690       0.454560     43.92933  \n",
       "std         0.862566       0.950076     69.58882  \n",
       "min         0.000000       0.000000      0.68000  \n",
       "25%         0.000000       0.000000     10.04000  \n",
       "50%         0.000000       0.000000     24.46000  \n",
       "75%         1.000000       1.000000     33.50000  \n",
       "max         8.000000       9.000000    744.66000  "
      ]
     },
     "execution_count": 4,
     "metadata": {},
     "output_type": "execute_result"
    }
   ],
   "source": [
    "train_data.describe()"
   ]
  },
  {
   "cell_type": "code",
   "execution_count": 5,
   "id": "complete-national",
   "metadata": {
    "execution": {
     "iopub.execute_input": "2021-05-01T18:05:19.169420Z",
     "iopub.status.busy": "2021-05-01T18:05:19.168596Z",
     "iopub.status.idle": "2021-05-01T18:05:19.204649Z",
     "shell.execute_reply": "2021-05-01T18:05:19.203831Z"
    },
    "papermill": {
     "duration": 0.053809,
     "end_time": "2021-05-01T18:05:19.204841",
     "exception": false,
     "start_time": "2021-05-01T18:05:19.151032",
     "status": "completed"
    },
    "tags": []
   },
   "outputs": [
    {
     "name": "stdout",
     "output_type": "stream",
     "text": [
      "<class 'pandas.core.frame.DataFrame'>\n",
      "RangeIndex: 100000 entries, 0 to 99999\n",
      "Data columns (total 12 columns):\n",
      " #   Column       Non-Null Count   Dtype  \n",
      "---  ------       --------------   -----  \n",
      " 0   PassengerId  100000 non-null  int64  \n",
      " 1   Survived     100000 non-null  int64  \n",
      " 2   Pclass       100000 non-null  int64  \n",
      " 3   Name         100000 non-null  object \n",
      " 4   Sex          100000 non-null  object \n",
      " 5   Age          96708 non-null   float64\n",
      " 6   SibSp        100000 non-null  int64  \n",
      " 7   Parch        100000 non-null  int64  \n",
      " 8   Ticket       95377 non-null   object \n",
      " 9   Fare         99866 non-null   float64\n",
      " 10  Cabin        32134 non-null   object \n",
      " 11  Embarked     99750 non-null   object \n",
      "dtypes: float64(2), int64(5), object(5)\n",
      "memory usage: 9.2+ MB\n"
     ]
    }
   ],
   "source": [
    "train_data.info()"
   ]
  },
  {
   "cell_type": "code",
   "execution_count": 6,
   "id": "needed-waste",
   "metadata": {
    "execution": {
     "iopub.execute_input": "2021-05-01T18:05:19.240446Z",
     "iopub.status.busy": "2021-05-01T18:05:19.239621Z",
     "iopub.status.idle": "2021-05-01T18:05:19.267837Z",
     "shell.execute_reply": "2021-05-01T18:05:19.267082Z"
    },
    "papermill": {
     "duration": 0.046834,
     "end_time": "2021-05-01T18:05:19.268049",
     "exception": false,
     "start_time": "2021-05-01T18:05:19.221215",
     "status": "completed"
    },
    "tags": []
   },
   "outputs": [
    {
     "name": "stdout",
     "output_type": "stream",
     "text": [
      "['Cabin']\n"
     ]
    }
   ],
   "source": [
    "feat_with_null = [col for col in train_data.columns if train_data[col].isnull().sum()>10000]\n",
    "print(feat_with_null)"
   ]
  },
  {
   "cell_type": "code",
   "execution_count": 7,
   "id": "chinese-antarctica",
   "metadata": {
    "execution": {
     "iopub.execute_input": "2021-05-01T18:05:19.301484Z",
     "iopub.status.busy": "2021-05-01T18:05:19.300923Z",
     "iopub.status.idle": "2021-05-01T18:05:20.102415Z",
     "shell.execute_reply": "2021-05-01T18:05:20.100998Z"
    },
    "papermill": {
     "duration": 0.819485,
     "end_time": "2021-05-01T18:05:20.102565",
     "exception": false,
     "start_time": "2021-05-01T18:05:19.283080",
     "status": "completed"
    },
    "tags": []
   },
   "outputs": [],
   "source": [
    "import matplotlib.pyplot as plt\n",
    "import seaborn as sns\n",
    "%matplotlib inline"
   ]
  },
  {
   "cell_type": "code",
   "execution_count": 8,
   "id": "alpine-necessity",
   "metadata": {
    "execution": {
     "iopub.execute_input": "2021-05-01T18:05:20.137527Z",
     "iopub.status.busy": "2021-05-01T18:05:20.136865Z",
     "iopub.status.idle": "2021-05-01T18:05:21.358650Z",
     "shell.execute_reply": "2021-05-01T18:05:21.358212Z"
    },
    "papermill": {
     "duration": 1.240559,
     "end_time": "2021-05-01T18:05:21.358788",
     "exception": false,
     "start_time": "2021-05-01T18:05:20.118229",
     "status": "completed"
    },
    "tags": []
   },
   "outputs": [
    {
     "name": "stderr",
     "output_type": "stream",
     "text": [
      "/opt/conda/lib/python3.7/site-packages/pandas/plotting/_matplotlib/tools.py:400: MatplotlibDeprecationWarning: \n",
      "The is_first_col function was deprecated in Matplotlib 3.4 and will be removed two minor releases later. Use ax.get_subplotspec().is_first_col() instead.\n",
      "  if ax.is_first_col():\n"
     ]
    },
    {
     "data": {
      "text/plain": [
       "array([[<AxesSubplot:title={'center':'PassengerId'}>,\n",
       "        <AxesSubplot:title={'center':'Survived'}>,\n",
       "        <AxesSubplot:title={'center':'Pclass'}>],\n",
       "       [<AxesSubplot:title={'center':'Age'}>,\n",
       "        <AxesSubplot:title={'center':'SibSp'}>,\n",
       "        <AxesSubplot:title={'center':'Parch'}>],\n",
       "       [<AxesSubplot:title={'center':'Fare'}>, <AxesSubplot:>,\n",
       "        <AxesSubplot:>]], dtype=object)"
      ]
     },
     "execution_count": 8,
     "metadata": {},
     "output_type": "execute_result"
    },
    {
     "data": {
      "image/png": "[encoded data removed]",
      "text/plain": [
       "<Figure size 1440x1080 with 9 Axes>"
      ]
     },
     "metadata": {
      "needs_background": "light"
     },
     "output_type": "display_data"
    }
   ],
   "source": [
    "train_data.hist(bins=20,figsize=(20,15))"
   ]
  },
  {
   "cell_type": "code",
   "execution_count": 9,
   "id": "administrative-casting",
   "metadata": {
    "execution": {
     "iopub.execute_input": "2021-05-01T18:05:21.396301Z",
     "iopub.status.busy": "2021-05-01T18:05:21.395753Z",
     "iopub.status.idle": "2021-05-01T18:05:21.660526Z",
     "shell.execute_reply": "2021-05-01T18:05:21.659931Z"
    },
    "papermill": {
     "duration": 0.284936,
     "end_time": "2021-05-01T18:05:21.660659",
     "exception": false,
     "start_time": "2021-05-01T18:05:21.375723",
     "status": "completed"
    },
    "tags": []
   },
   "outputs": [
    {
     "data": {
      "text/plain": [
       "<AxesSubplot:xlabel='Age', ylabel='Count'>"
      ]
     },
     "execution_count": 9,
     "metadata": {},
     "output_type": "execute_result"
    },
    {
     "data": {
      "image/png": "[encoded data removed]",
      "text/plain": [
       "<Figure size 432x288 with 1 Axes>"
      ]
     },
     "metadata": {
      "needs_background": "light"
     },
     "output_type": "display_data"
    }
   ],
   "source": [
    "sns.histplot(data=train_data,x='Age',hue='Survived',multiple='dodge',shrink=.7,bins=15)"
   ]
  },
  {
   "cell_type": "code",
   "execution_count": 10,
   "id": "twelve-employer",
   "metadata": {
    "execution": {
     "iopub.execute_input": "2021-05-01T18:05:21.701164Z",
     "iopub.status.busy": "2021-05-01T18:05:21.700291Z",
     "iopub.status.idle": "2021-05-01T18:05:21.904285Z",
     "shell.execute_reply": "2021-05-01T18:05:21.904673Z"
    },
    "papermill": {
     "duration": 0.225938,
     "end_time": "2021-05-01T18:05:21.904842",
     "exception": false,
     "start_time": "2021-05-01T18:05:21.678904",
     "status": "completed"
    },
    "tags": []
   },
   "outputs": [
    {
     "data": {
      "text/plain": [
       "<AxesSubplot:xlabel='Sex', ylabel='Count'>"
      ]
     },
     "execution_count": 10,
     "metadata": {},
     "output_type": "execute_result"
    },
    {
     "data": {
      "image/png": "[encoded data removed]",
      "text/plain": [
       "<Figure size 432x288 with 1 Axes>"
      ]
     },
     "metadata": {
      "needs_background": "light"
     },
     "output_type": "display_data"
    }
   ],
   "source": [
    "sns.histplot(data=train_data,x='Sex',hue='Survived',multiple='dodge',shrink=.8)"
   ]
  },
  {
   "cell_type": "code",
   "execution_count": 11,
   "id": "reflected-senior",
   "metadata": {
    "execution": {
     "iopub.execute_input": "2021-05-01T18:05:21.949880Z",
     "iopub.status.busy": "2021-05-01T18:05:21.948946Z",
     "iopub.status.idle": "2021-05-01T18:05:22.237611Z",
     "shell.execute_reply": "2021-05-01T18:05:22.237149Z"
    },
    "papermill": {
     "duration": 0.31406,
     "end_time": "2021-05-01T18:05:22.237741",
     "exception": false,
     "start_time": "2021-05-01T18:05:21.923681",
     "status": "completed"
    },
    "tags": []
   },
   "outputs": [
    {
     "data": {
      "text/plain": [
       "<AxesSubplot:xlabel='Pclass', ylabel='Count'>"
      ]
     },
     "execution_count": 11,
     "metadata": {},
     "output_type": "execute_result"
    },
    {
     "data": {
      "image/png": "[encoded data removed]",
      "text/plain": [
       "<Figure size 432x288 with 1 Axes>"
      ]
     },
     "metadata": {
      "needs_background": "light"
     },
     "output_type": "display_data"
    }
   ],
   "source": [
    "sns.histplot(data=train_data,x='Pclass',hue='Survived',multiple='dodge')"
   ]
  },
  {
   "cell_type": "code",
   "execution_count": 12,
   "id": "fatty-laundry",
   "metadata": {
    "execution": {
     "iopub.execute_input": "2021-05-01T18:05:22.282726Z",
     "iopub.status.busy": "2021-05-01T18:05:22.282166Z",
     "iopub.status.idle": "2021-05-01T18:05:22.627320Z",
     "shell.execute_reply": "2021-05-01T18:05:22.626646Z"
    },
    "papermill": {
     "duration": 0.370054,
     "end_time": "2021-05-01T18:05:22.627500",
     "exception": false,
     "start_time": "2021-05-01T18:05:22.257446",
     "status": "completed"
    },
    "tags": []
   },
   "outputs": [
    {
     "name": "stdout",
     "output_type": "stream",
     "text": [
      "(75000, 10) (75000,)\n"
     ]
    }
   ],
   "source": [
    "from sklearn.model_selection import train_test_split\n",
    "target = train_data.Survived\n",
    "train_data.drop(['Survived','Cabin'],axis=1,inplace=True)\n",
    "test_data.drop(['Cabin'],axis=1,inplace=True)\n",
    "\n",
    "too_much_null = [col for col in train_data.columns if train_data[col].isnull().sum()>50000]\n",
    "train_data.drop(too_much_null,axis=1,inplace=True)\n",
    "feature_train,feature_valid,label_train,label_valid = train_test_split(train_data,target)\n",
    "print(feature_train.shape,label_train.shape)"
   ]
  },
  {
   "cell_type": "code",
   "execution_count": 13,
   "id": "framed-funeral",
   "metadata": {
    "execution": {
     "iopub.execute_input": "2021-05-01T18:05:22.681606Z",
     "iopub.status.busy": "2021-05-01T18:05:22.680706Z",
     "iopub.status.idle": "2021-05-01T18:05:22.684394Z",
     "shell.execute_reply": "2021-05-01T18:05:22.683956Z"
    },
    "papermill": {
     "duration": 0.035455,
     "end_time": "2021-05-01T18:05:22.684513",
     "exception": false,
     "start_time": "2021-05-01T18:05:22.649058",
     "status": "completed"
    },
    "tags": []
   },
   "outputs": [
    {
     "data": {
      "text/plain": [
       "<bound method NDFrame.head of        PassengerId  Pclass              Name     Sex   Age  SibSp  Parch  \\\n",
       "19975        19975       1  Stevens, Leonard    male  30.0      0      0   \n",
       "99890        99890       3   Carnes, Gabriel    male  33.0      1      3   \n",
       "79004        79004       3  Biderman, Donald    male  57.0      0      0   \n",
       "63837        63837       3     Silva, Leslie    male  52.0      1      0   \n",
       "67042        67042       3     Larsen, Harry    male  28.0      0      0   \n",
       "...            ...     ...               ...     ...   ...    ...    ...   \n",
       "31008        31008       3     Vesco, Graham    male  22.0      0      0   \n",
       "42890        42890       1     Cooper, Terry    male  61.0      0      0   \n",
       "79393        79393       3    Mccord, Robert    male  46.0      0      0   \n",
       "69596        69596       1    Antonio, Kathy  female  34.0      0      1   \n",
       "49539        49539       3    Benge, Richard    male  38.0      0      0   \n",
       "\n",
       "                 Ticket    Fare Embarked  \n",
       "19975  SOTON/O.Q. 12678  191.72        S  \n",
       "99890              8984   13.57        S  \n",
       "79004             31678   19.90        S  \n",
       "63837             43132   28.35        S  \n",
       "67042             27003    9.78        S  \n",
       "...                 ...     ...      ...  \n",
       "31008        A. 4250799    9.25        S  \n",
       "42890          PC 12894  257.86        Q  \n",
       "79393            431129    6.97        S  \n",
       "69596            311269    8.84        C  \n",
       "49539       A/5. 487068    5.88        S  \n",
       "\n",
       "[75000 rows x 10 columns]>"
      ]
     },
     "execution_count": 13,
     "metadata": {},
     "output_type": "execute_result"
    }
   ],
   "source": [
    "feature_train.head"
   ]
  },
  {
   "cell_type": "code",
   "execution_count": 14,
   "id": "civic-statistics",
   "metadata": {
    "execution": {
     "iopub.execute_input": "2021-05-01T18:05:22.736172Z",
     "iopub.status.busy": "2021-05-01T18:05:22.735592Z",
     "iopub.status.idle": "2021-05-01T18:05:22.849992Z",
     "shell.execute_reply": "2021-05-01T18:05:22.849521Z"
    },
    "papermill": {
     "duration": 0.145715,
     "end_time": "2021-05-01T18:05:22.850143",
     "exception": false,
     "start_time": "2021-05-01T18:05:22.704428",
     "status": "completed"
    },
    "tags": []
   },
   "outputs": [],
   "source": [
    "from sklearn.preprocessing import OneHotEncoder\n",
    "\n",
    "object_cols = [col for col in train_data.columns if train_data[col].dtype == 'object']\n",
    "cat_cols = [col for col in train_data.columns if train_data[col].dtype == 'object' and train_data[col].nunique()<10]\n",
    "\n",
    "OHE = OneHotEncoder(handle_unknown='ignore',sparse=False)\n",
    "OHE_train = pd.DataFrame(OHE.fit_transform(feature_train[cat_cols]))\n",
    "OHE_valid = pd.DataFrame(OHE.transform(feature_valid[cat_cols]))\n",
    "\n",
    "OHE_train.index = feature_train.index\n",
    "OHE_valid.index = feature_valid.index"
   ]
  },
  {
   "cell_type": "code",
   "execution_count": 15,
   "id": "emotional-jefferson",
   "metadata": {
    "execution": {
     "iopub.execute_input": "2021-05-01T18:05:22.896119Z",
     "iopub.status.busy": "2021-05-01T18:05:22.895320Z",
     "iopub.status.idle": "2021-05-01T18:05:22.899165Z",
     "shell.execute_reply": "2021-05-01T18:05:22.898399Z"
    },
    "papermill": {
     "duration": 0.028717,
     "end_time": "2021-05-01T18:05:22.899322",
     "exception": false,
     "start_time": "2021-05-01T18:05:22.870605",
     "status": "completed"
    },
    "tags": []
   },
   "outputs": [
    {
     "name": "stdout",
     "output_type": "stream",
     "text": [
      "['PassengerId', 'Pclass', 'Age', 'SibSp', 'Parch', 'Fare']\n"
     ]
    }
   ],
   "source": [
    "nums_cols = [col for col in train_data.columns if train_data[col].dtype in ['int64','float64']]\n",
    "print(nums_cols)"
   ]
  },
  {
   "cell_type": "code",
   "execution_count": 16,
   "id": "collectible-cancer",
   "metadata": {
    "execution": {
     "iopub.execute_input": "2021-05-01T18:05:22.951272Z",
     "iopub.status.busy": "2021-05-01T18:05:22.950391Z",
     "iopub.status.idle": "2021-05-01T18:05:22.953468Z",
     "shell.execute_reply": "2021-05-01T18:05:22.953985Z"
    },
    "papermill": {
     "duration": 0.033123,
     "end_time": "2021-05-01T18:05:22.954141",
     "exception": false,
     "start_time": "2021-05-01T18:05:22.921018",
     "status": "completed"
    },
    "tags": []
   },
   "outputs": [
    {
     "name": "stdout",
     "output_type": "stream",
     "text": [
      "         0    1    2    3    4    5\n",
      "19975  0.0  1.0  0.0  0.0  1.0  0.0\n",
      "99890  0.0  1.0  0.0  0.0  1.0  0.0\n",
      "79004  0.0  1.0  0.0  0.0  1.0  0.0\n",
      "63837  0.0  1.0  0.0  0.0  1.0  0.0\n",
      "67042  0.0  1.0  0.0  0.0  1.0  0.0\n",
      "...    ...  ...  ...  ...  ...  ...\n",
      "31008  0.0  1.0  0.0  0.0  1.0  0.0\n",
      "42890  0.0  1.0  0.0  1.0  0.0  0.0\n",
      "79393  0.0  1.0  0.0  0.0  1.0  0.0\n",
      "69596  1.0  0.0  1.0  0.0  0.0  0.0\n",
      "49539  0.0  1.0  0.0  0.0  1.0  0.0\n",
      "\n",
      "[75000 rows x 6 columns]\n"
     ]
    }
   ],
   "source": [
    "print(OHE_train)"
   ]
  },
  {
   "cell_type": "code",
   "execution_count": 17,
   "id": "variable-courtesy",
   "metadata": {
    "execution": {
     "iopub.execute_input": "2021-05-01T18:05:23.007181Z",
     "iopub.status.busy": "2021-05-01T18:05:23.003134Z",
     "iopub.status.idle": "2021-05-01T18:05:23.016467Z",
     "shell.execute_reply": "2021-05-01T18:05:23.015863Z"
    },
    "papermill": {
     "duration": 0.041631,
     "end_time": "2021-05-01T18:05:23.016594",
     "exception": false,
     "start_time": "2021-05-01T18:05:22.974963",
     "status": "completed"
    },
    "tags": []
   },
   "outputs": [],
   "source": [
    "feature_train_num = feature_train.drop(object_cols,axis=1)\n",
    "feature_valid_num = feature_valid.drop(object_cols,axis=1)\n",
    "feature_train_clean = pd.concat([feature_train_num,OHE_train],axis=1)\n",
    "feature_valid_clean = pd.concat([feature_valid_num,OHE_valid],axis=1)"
   ]
  },
  {
   "cell_type": "code",
   "execution_count": 18,
   "id": "caroline-latitude",
   "metadata": {
    "execution": {
     "iopub.execute_input": "2021-05-01T18:05:23.063275Z",
     "iopub.status.busy": "2021-05-01T18:05:23.062675Z",
     "iopub.status.idle": "2021-05-01T18:05:36.001164Z",
     "shell.execute_reply": "2021-05-01T18:05:36.001827Z"
    },
    "papermill": {
     "duration": 12.96422,
     "end_time": "2021-05-01T18:05:36.002008",
     "exception": false,
     "start_time": "2021-05-01T18:05:23.037788",
     "status": "completed"
    },
    "tags": []
   },
   "outputs": [
    {
     "name": "stdout",
     "output_type": "stream",
     "text": [
      "[0.3042701  0.2330885  0.5116422  ... 0.7880698  0.7442519  0.04307703]\n"
     ]
    }
   ],
   "source": [
    "from xgboost import XGBRegressor\n",
    "model_1 = XGBRegressor(n_estimators=300,learning_rate=0.05)\n",
    "model_1.fit(feature_train_clean,label_train)\n",
    "result = model_1.predict(feature_valid_clean)\n",
    "print(result)"
   ]
  },
  {
   "cell_type": "code",
   "execution_count": 19,
   "id": "recovered-waterproof",
   "metadata": {
    "execution": {
     "iopub.execute_input": "2021-05-01T18:05:36.048237Z",
     "iopub.status.busy": "2021-05-01T18:05:36.047398Z",
     "iopub.status.idle": "2021-05-01T18:05:36.053572Z",
     "shell.execute_reply": "2021-05-01T18:05:36.052979Z"
    },
    "papermill": {
     "duration": 0.02999,
     "end_time": "2021-05-01T18:05:36.053687",
     "exception": false,
     "start_time": "2021-05-01T18:05:36.023697",
     "status": "completed"
    },
    "tags": []
   },
   "outputs": [
    {
     "name": "stdout",
     "output_type": "stream",
     "text": [
      "0.31628769669526724\n"
     ]
    }
   ],
   "source": [
    "from sklearn.metrics import mean_absolute_error\n",
    "print(mean_absolute_error(label_valid,result))"
   ]
  },
  {
   "cell_type": "code",
   "execution_count": 20,
   "id": "nonprofit-consumer",
   "metadata": {
    "execution": {
     "iopub.execute_input": "2021-05-01T18:05:36.101687Z",
     "iopub.status.busy": "2021-05-01T18:05:36.101046Z",
     "iopub.status.idle": "2021-05-01T18:05:36.258819Z",
     "shell.execute_reply": "2021-05-01T18:05:36.259287Z"
    },
    "papermill": {
     "duration": 0.184087,
     "end_time": "2021-05-01T18:05:36.259448",
     "exception": false,
     "start_time": "2021-05-01T18:05:36.075361",
     "status": "completed"
    },
    "tags": []
   },
   "outputs": [],
   "source": [
    "from sklearn.pipeline import Pipeline \n",
    "from sklearn.impute import SimpleImputer\n",
    "from sklearn.preprocessing import OneHotEncoder\n",
    "from sklearn.compose import ColumnTransformer\n",
    "\n",
    "numerical_transformer = SimpleImputer(strategy='constant')\n",
    "\n",
    "categorical_transformer = Pipeline(steps=\n",
    "                                   [('imputer',SimpleImputer(strategy='most_frequent')),\n",
    "                                                             ('encoder',OneHotEncoder(handle_unknown='ignore'))])\n",
    "preprocessor = ColumnTransformer(\n",
    "    transformers=[\n",
    "('num',numerical_transformer,nums_cols),\n",
    "('categorical',categorical_transformer,cat_cols)])"
   ]
  },
  {
   "cell_type": "code",
   "execution_count": 21,
   "id": "subjective-spirituality",
   "metadata": {
    "execution": {
     "iopub.execute_input": "2021-05-01T18:05:36.308818Z",
     "iopub.status.busy": "2021-05-01T18:05:36.308074Z",
     "iopub.status.idle": "2021-05-01T18:05:36.311254Z",
     "shell.execute_reply": "2021-05-01T18:05:36.311887Z"
    },
    "papermill": {
     "duration": 0.030467,
     "end_time": "2021-05-01T18:05:36.312081",
     "exception": false,
     "start_time": "2021-05-01T18:05:36.281614",
     "status": "completed"
    },
    "tags": []
   },
   "outputs": [
    {
     "name": "stdout",
     "output_type": "stream",
     "text": [
      "['Sex', 'Embarked'] Index(['PassengerId', 'Pclass', 'Age', 'SibSp', 'Parch', 'Fare', 0, 1, 2, 3, 4,\n",
      "       5],\n",
      "      dtype='object') Index(['PassengerId', 'Pclass', 'Name', 'Sex', 'Age', 'SibSp', 'Parch',\n",
      "       'Ticket', 'Fare', 'Embarked'],\n",
      "      dtype='object')\n"
     ]
    }
   ],
   "source": [
    "print(cat_cols,feature_train_clean.columns,test_data.columns)"
   ]
  },
  {
   "cell_type": "code",
   "execution_count": 22,
   "id": "juvenile-visibility",
   "metadata": {
    "execution": {
     "iopub.execute_input": "2021-05-01T18:05:36.361720Z",
     "iopub.status.busy": "2021-05-01T18:05:36.360902Z",
     "iopub.status.idle": "2021-05-01T18:05:49.224339Z",
     "shell.execute_reply": "2021-05-01T18:05:49.224769Z"
    },
    "papermill": {
     "duration": 12.889844,
     "end_time": "2021-05-01T18:05:49.224942",
     "exception": false,
     "start_time": "2021-05-01T18:05:36.335098",
     "status": "completed"
    },
    "tags": []
   },
   "outputs": [],
   "source": [
    "from xgboost import XGBRegressor\n",
    "model_1 = XGBRegressor(n_estimators=300,learning_rate=0.05)\n",
    "pipeline_1 = Pipeline(steps=[('preprocessor',preprocessor),\n",
    "                            ('model',model_1)])\n",
    "pipeline_1.fit(feature_train,label_train)\n",
    "result2 = pipeline_1.predict(feature_valid)"
   ]
  },
  {
   "cell_type": "code",
   "execution_count": 23,
   "id": "grateful-seafood",
   "metadata": {
    "execution": {
     "iopub.execute_input": "2021-05-01T18:05:49.279053Z",
     "iopub.status.busy": "2021-05-01T18:05:49.278028Z",
     "iopub.status.idle": "2021-05-01T18:05:49.619459Z",
     "shell.execute_reply": "2021-05-01T18:05:49.620068Z"
    },
    "papermill": {
     "duration": 0.372337,
     "end_time": "2021-05-01T18:05:49.620247",
     "exception": false,
     "start_time": "2021-05-01T18:05:49.247910",
     "status": "completed"
    },
    "tags": []
   },
   "outputs": [
    {
     "data": {
      "text/plain": [
       "(100000,)"
      ]
     },
     "execution_count": 23,
     "metadata": {},
     "output_type": "execute_result"
    }
   ],
   "source": [
    "results = pipeline_1.predict(test_data)\n",
    "results.shape"
   ]
  },
  {
   "cell_type": "code",
   "execution_count": 24,
   "id": "loved-newton",
   "metadata": {
    "execution": {
     "iopub.execute_input": "2021-05-01T18:05:49.668314Z",
     "iopub.status.busy": "2021-05-01T18:05:49.667765Z",
     "iopub.status.idle": "2021-05-01T18:05:49.805345Z",
     "shell.execute_reply": "2021-05-01T18:05:49.804891Z"
    },
    "papermill": {
     "duration": 0.162651,
     "end_time": "2021-05-01T18:05:49.805489",
     "exception": false,
     "start_time": "2021-05-01T18:05:49.642838",
     "status": "completed"
    },
    "tags": []
   },
   "outputs": [
    {
     "name": "stdout",
     "output_type": "stream",
     "text": [
      "Your submission was successfully saved!\n"
     ]
    }
   ],
   "source": [
    "output = test_data.PassengerId.copy()\n",
    "pred_val = (results>0.5).astype(int)\n",
    "pred_val = pd.Series(pred_val.tolist(),name='Survived')\n",
    "#output['Survived'] = pred_val\n",
    "output = pd.concat([output,pred_val],axis=1)\n",
    "output.to_csv('my_submission.csv', index=False)\n",
    "print(\"Your submission was successfully saved!\")\n",
    "#output['Survived'] = (results>0.5).astype(int).tolist()"
   ]
  }
 ],
 "metadata": {
  "kernelspec": {
   "display_name": "Python 3",
   "language": "python",
   "name": "python3"
  },
  "language_info": {
   "codemirror_mode": {
    "name": "ipython",
    "version": 3
   },
   "file_extension": ".py",
   "mimetype": "text/x-python",
   "name": "python",
   "nbconvert_exporter": "python",
   "pygments_lexer": "ipython3",
   "version": "3.7.9"
  },
  "papermill": {
   "default_parameters": {},
   "duration": 36.965788,
   "end_time": "2021-05-01T18:05:50.436242",
   "environment_variables": {},
   "exception": null,
   "input_path": "__notebook__.ipynb",
   "output_path": "__notebook__.ipynb",
   "parameters": {},
   "start_time": "2021-05-01T18:05:13.470454",
   "version": "2.3.2"
  }
 },
 "nbformat": 4,
 "nbformat_minor": 5
}
